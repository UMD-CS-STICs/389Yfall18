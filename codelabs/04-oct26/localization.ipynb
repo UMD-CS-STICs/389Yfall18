{
 "cells": [
  {
   "cell_type": "markdown",
   "metadata": {},
   "source": [
    "# Codelab 1: 1D Histogram Filter\n",
    "\n",
    "In this codelab, you will write a one dimensional histogram filter that will localize a robot to one of 5 grid cells. Each grid cell is either red or green. The robot can move either left or right and is equiped with a color sensor. A map of the environment with the robot starting in the center is presented below.\n",
    "![](https://i.imgur.com/DOlNoDN.png)\n",
    "(source: https://renders.download/tv-series/futurama/bender-bending-rodriguez/)"
   ]
  },
  {
   "cell_type": "markdown",
   "metadata": {},
   "source": [
    "## Sense\n",
    "Here you will implement a function that takes the prior (probability distribution at the previous timestep) and incorporates a color sensor reading. **Important**: The color sensor gives a correct reading 80% of the time and an incorrect reading 20% of the time."
   ]
  },
  {
   "cell_type": "code",
   "execution_count": null,
   "metadata": {
    "collapsed": true
   },
   "outputs": [],
   "source": [
    "# Possible values of z (sensed color)\n",
    "RED = 0\n",
    "GREEN = 1\n",
    "\n",
    "def sense(prior, env_map, z):\n",
    "    posterior = prior    \n",
    "    \n",
    "    # TODO: calculate posterior distribution after observing color z\n",
    "    \n",
    "    return posterior"
   ]
  },
  {
   "cell_type": "markdown",
   "metadata": {},
   "source": [
    "After you complete this, scroll down to results and run the initial belief and sense RED codeblocks. Check to make sure the distribution moves as you'd expect!"
   ]
  },
  {
   "cell_type": "markdown",
   "metadata": {},
   "source": [
    "## Move\n",
    "Here you will implement a function that takes the prior and incorporates a control signal. The control signal will be either move one space to the left or one space to the right. Important: the robot executes the control signal succesfully 90% of the time and remains in the same place 10% of the time."
   ]
  },
  {
   "cell_type": "code",
   "execution_count": null,
   "metadata": {
    "collapsed": true
   },
   "outputs": [],
   "source": [
    "# Possible values of u\n",
    "LEFT = 0\n",
    "RIGHT = 1\n",
    "\n",
    "def move(prior, env_map, u):\n",
    "    posterior = prior\n",
    "    \n",
    "    # TODO: calculate posterior distribution after applying control signal u\n",
    "    \n",
    "    return posterior"
   ]
  },
  {
   "cell_type": "markdown",
   "metadata": {},
   "source": [
    "After you complete the move function, run all the codeblocks to see how your distribution changes. Does it shift as expected?"
   ]
  },
  {
   "cell_type": "markdown",
   "metadata": {},
   "source": [
    "## Results"
   ]
  },
  {
   "cell_type": "markdown",
   "metadata": {},
   "source": [
    "### Initial Belief"
   ]
  },
  {
   "cell_type": "code",
   "execution_count": null,
   "metadata": {},
   "outputs": [],
   "source": [
    "%matplotlib inline\n",
    "import matplotlib.pyplot as plt\n",
    "X = range(5)\n",
    "\n",
    "env_map = [RED, GREEN, RED, GREEN, GREEN]\n",
    "belief = [1./5]*5\n",
    "\n",
    "print 'Initial belief:'\n",
    "print ['%.2f' % x for x in belief]\n",
    "plt.ylim([0, 1]); plt.bar(X,belief)"
   ]
  },
  {
   "cell_type": "markdown",
   "metadata": {},
   "source": [
    "### Sense RED:"
   ]
  },
  {
   "cell_type": "code",
   "execution_count": null,
   "metadata": {},
   "outputs": [],
   "source": [
    "belief = sense(belief, env_map, RED)\n",
    "print ['%.2f' % x for x in belief]\n",
    "plt.ylim([0, 1]); plt.bar(X, belief)"
   ]
  },
  {
   "cell_type": "markdown",
   "metadata": {},
   "source": [
    "### Move RIGHT:"
   ]
  },
  {
   "cell_type": "code",
   "execution_count": null,
   "metadata": {},
   "outputs": [],
   "source": [
    "belief = move(belief, env_map, RIGHT)\n",
    "print ['%.2f' % x for x in belief]\n",
    "plt.ylim([0, 1]); plt.bar(X,belief)"
   ]
  },
  {
   "cell_type": "markdown",
   "metadata": {},
   "source": [
    "### Sense GREEN:"
   ]
  },
  {
   "cell_type": "code",
   "execution_count": null,
   "metadata": {},
   "outputs": [],
   "source": [
    "belief = sense(belief, env_map, GREEN)\n",
    "print ['%.2f' % x for x in belief]\n",
    "plt.ylim([0, 1]); plt.bar(X,belief)"
   ]
  },
  {
   "cell_type": "markdown",
   "metadata": {},
   "source": [
    "### Move RIGHT:"
   ]
  },
  {
   "cell_type": "code",
   "execution_count": null,
   "metadata": {},
   "outputs": [],
   "source": [
    "belief = move(belief, env_map, RIGHT)\n",
    "print ['%.2f' % x for x in belief]\n",
    "plt.ylim([0, 1]); plt.bar(X,belief)"
   ]
  },
  {
   "cell_type": "markdown",
   "metadata": {},
   "source": [
    "### Sense GREEN:"
   ]
  },
  {
   "cell_type": "code",
   "execution_count": null,
   "metadata": {},
   "outputs": [],
   "source": [
    "belief = sense(belief, env_map, GREEN)\n",
    "print ['%.2f' % x for x in belief]\n",
    "plt.ylim([0, 1]); plt.bar(X,belief)"
   ]
  }
 ],
 "metadata": {
  "kernelspec": {
   "display_name": "Python 3",
   "language": "python",
   "name": "python3"
  },
  "language_info": {
   "codemirror_mode": {
    "name": "ipython",
    "version": 3
   },
   "file_extension": ".py",
   "mimetype": "text/x-python",
   "name": "python",
   "nbconvert_exporter": "python",
   "pygments_lexer": "ipython3",
   "version": "3.4.3"
  }
 },
 "nbformat": 4,
 "nbformat_minor": 2
}
